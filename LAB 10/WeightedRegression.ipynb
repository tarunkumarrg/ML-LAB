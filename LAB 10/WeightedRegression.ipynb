{
  "nbformat": 4,
  "nbformat_minor": 0,
  "metadata": {
    "colab": {
      "name": "WeightedRegression.ipynb",
      "provenance": [],
      "include_colab_link": true
    },
    "kernelspec": {
      "name": "python3",
      "display_name": "Python 3"
    },
    "language_info": {
      "name": "python"
    }
  },
  "cells": [
    {
      "cell_type": "markdown",
      "metadata": {
        "id": "view-in-github",
        "colab_type": "text"
      },
      "source": [
        "<a href=\"https://colab.research.google.com/github/KIRAN-MK-211/ML_B2_1BM19CS073_KIRAN_MK/blob/main/WeightedRegression/WeightedRegression.ipynb\" target=\"_parent\"><img src=\"https://colab.research.google.com/assets/colab-badge.svg\" alt=\"Open In Colab\"/></a>"
      ]
    },
    {
      "cell_type": "code",
      "metadata": {
        "id": "ZhbuE3pWZLbA"
      },
      "source": [
        "from numpy import *\n",
        "from os import listdir\n",
        "import matplotlib\n",
        "import matplotlib.pyplot as plt\n",
        "import pandas as pd\n",
        "import numpy as np1\n",
        "import numpy.linalg as np\n",
        "from scipy.stats.stats import pearsonr"
      ],
      "execution_count": 1,
      "outputs": []
    },
    {
      "cell_type": "code",
      "metadata": {
        "id": "7ogNQRzCZctV"
      },
      "source": [
        "def kernel(point,xmat, k):\n",
        " m,n = np1.shape(xmat)\n",
        " weights = np1.mat(np1.eye((m)))\n",
        " for j in range(m):\n",
        "    diff = point - X[j]\n",
        "    weights[j,j] = np1.exp(diff*diff.T/(-2.0*k**2))\n",
        " return weights"
      ],
      "execution_count": 2,
      "outputs": []
    },
    {
      "cell_type": "code",
      "metadata": {
        "id": "bKROXRxjZgEL"
      },
      "source": [
        "def localWeight(point,xmat,ymat,k):\n",
        " wei = kernel(point,xmat,k)\n",
        " W = (X.T*(wei*X)).I*(X.T*(wei*ymat.T))\n",
        " return W"
      ],
      "execution_count": 3,
      "outputs": []
    },
    {
      "cell_type": "code",
      "metadata": {
        "id": "rNhBgITGZhwC"
      },
      "source": [
        "def localWeightRegression(xmat,ymat,k):\n",
        " m,n = np1.shape(xmat)\n",
        " ypred = np1.zeros(m)\n",
        " for i in range(m):\n",
        "    ypred[i] = xmat[i]*localWeight(xmat[i],xmat,ymat,k)\n",
        " return ypred"
      ],
      "execution_count": 4,
      "outputs": []
    },
    {
      "cell_type": "code",
      "metadata": {
        "id": "cjVO0nztZlBD"
      },
      "source": [
        "# load data points\n",
        "data = pd.read_csv('/content/tips.csv')\n",
        "bill = np1.array(data.total_bill)\n",
        "tip = np1.array(data.tip)"
      ],
      "execution_count": 5,
      "outputs": []
    },
    {
      "cell_type": "code",
      "metadata": {
        "id": "qJ2nf_9YZpd4"
      },
      "source": [
        "#preparing and add 1 in bill\n",
        "mbill = np1.mat(bill)\n",
        "mtip = np1.mat(tip) # mat is used to convert to n dimesiona to 2 dimensional array form\n",
        "m= np1.shape(mbill)[1]\n",
        "# print(m) 244 data is stored in m\n",
        "one = np1.mat(np1.ones(m))\n",
        "X= np1.hstack((one.T,mbill.T)) # create a stack of bill from ONE\n",
        "#print(X)\n",
        "#set k here\n",
        "ypred = localWeightRegression(X,mtip,2)\n",
        "SortIndex = X[:,1].argsort(0)\n",
        "xsort = X[SortIndex][:,0]"
      ],
      "execution_count": 6,
      "outputs": []
    },
    {
      "cell_type": "code",
      "metadata": {
        "colab": {
          "base_uri": "https://localhost:8080/",
          "height": 279
        },
        "id": "Ep8vSvuqZs_m",
        "outputId": "e6941363-1ab0-4fdb-ff2e-14993b1f0dc3"
      },
      "source": [
        "fig = plt.figure()\n",
        "ax = fig.add_subplot(1,1,1)\n",
        "ax.scatter(bill,tip, color='blue')\n",
        "ax.plot(xsort[:,1],ypred[SortIndex], color = 'red', linewidth=5)\n",
        "plt.xlabel('Total bill')\n",
        "plt.ylabel('Tip')\n",
        "plt.show()\n"
      ],
      "execution_count": 7,
      "outputs": [
        {
          "output_type": "display_data",
          "data": {
            "text/plain": [
              "<Figure size 432x288 with 1 Axes>"
            ],
            "image/png": "[encoded data removed]"
          },
          "metadata": {
            "needs_background": "light"
          }
        }
      ]
    }
  ]
}